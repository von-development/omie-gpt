{
 "cells": [
  {
   "cell_type": "code",
   "execution_count": 44,
   "metadata": {},
   "outputs": [],
   "source": [
    "# HTTP Requests and Async Handling\n",
    "import requests\n",
    "import asyncio\n",
    "import json\n",
    "# LangChain and Pydantic for Tool Construction and Input Validation\n",
    "from langchain_community.tools.requests.tool import RequestsPostTool, GenericRequestsWrapper\n",
    "from langchain_core.pydantic_v1 import BaseModel, Field\n",
    "\n",
    "# Typing for Type Annotations\n",
    "from typing import List, Dict, Any, Optional, Union\n",
    "\n",
    "# LangChain Core for Tool and Runnable Interfaces\n",
    "from langchain_core.runnables import RunnableLambda, RunnableConfig\n",
    "from langchain_core.tools import tool, StructuredTool\n",
    "\n",
    "# Correct imports for Base classes and exceptions in LangChain\n",
    "from langchain.tools import BaseTool\n",
    "from langchain_core.callbacks import BaseCallbackManager, BaseCallbackHandler\n",
    "from langchain_core.tools import BaseTool, ToolException, ValidationError\n",
    "\n",
    "# Additional Utilities for Asynchronous Operations\n",
    "from typing_extensions import TypedDict, AsyncIterator\n",
    "\n"
   ]
  },
  {
   "cell_type": "code",
   "execution_count": 63,
   "metadata": {},
   "outputs": [],
   "source": [
    "class InputResumoFinanceiro(BaseModel):\n",
    "    \"\"\"\n",
    "    Arguments for the financial summary retrieval tool.\n",
    "    \"\"\"\n",
    "    dDia: str = Field(description='The day for which to get the financial summary', examples=['10/08/2024'])\n",
    "    lApenasResumo: bool = Field(default=True, description='Whether to get only the summary')\n"
   ]
  },
  {
   "cell_type": "code",
   "execution_count": 65,
   "metadata": {},
   "outputs": [],
   "source": [
    "\n",
    "@tool(\"resumo-financas\", args_schema=InputResumoFinanceiro)\n",
    "class ResumoFinanceiroTool(StructuredTool):\n",
    "    def __init__(self):\n",
    "        self.url = 'https://app.omie.com.br/api/v1/financas/resumo/'\n",
    "        self.app_key = '3568546098117'\n",
    "        self.app_secret = 'd063098e99c6535528c08a26ab77aff2'\n",
    "\n",
    "    def invoke(self, input: InputResumoFinanceiro) -> dict:\n",
    "        params = {\n",
    "            \"call\": \"ObterResumoFinancas\",\n",
    "            \"app_key\": self.app_key,\n",
    "            \"app_secret\": self.app_secret,\n",
    "            \"param\": [input.dict()]\n",
    "        }\n",
    "        response = requests.post(self.url, json=params)\n",
    "        if response.status_code == 200:\n",
    "            return response.json()\n",
    "        else:\n",
    "            raise ToolException(f\"Failed to retrieve financial summary: HTTP {response.status_code} - {response.text}\")\n"
   ]
  },
  {
   "cell_type": "code",
   "execution_count": 59,
   "metadata": {},
   "outputs": [],
   "source": [
    "@tool(\"resumo-financas\", args_schema=InputResumoFinanceiro) \n",
    "class ResumoFinanceiroTool(StructuredTool):\n",
    "    url = 'https://app.omie.com.br/api/v1/financas/resumo/'\n",
    "    app_key = '3568546098117'\n",
    "    app_secret = 'd063098e99c6535528c08a26ab77aff2'\n",
    "\n",
    "    def invoke(self, input: InputResumoFinanceiro) -> dict:\n",
    "        params = {\n",
    "            \"call\": \"ObterResumoFinancas\",\n",
    "            \"app_key\": self.app_key,\n",
    "            \"app_secret\": self.app_secret,\n",
    "            \"param\": [input.dict()]\n",
    "        }\n",
    "        response = requests.post(self.url, json=params)\n",
    "        if response.status_code == 200:\n",
    "            return response.json()\n",
    "        else:\n",
    "            raise ToolException(f\"Failed to retrieve financial summary: HTTP {response.status_code} - {response.text}\")"
   ]
  },
  {
   "cell_type": "code",
   "execution_count": 71,
   "metadata": {},
   "outputs": [],
   "source": [
    "def fetch_financial_summary(dDia: str, lApenasResumo: bool):\n",
    "    tool_input = (\"03/08/2024\", True)\n",
    "    finance_tool = ResumoFinanceiroTool()  # Ensure this instantiation is correct\n",
    "    try:\n",
    "        result = finance_tool(tool_input)  # Directly passing the tool_input\n",
    "        print(\"Financial Summary Retrieved:\", result)\n",
    "    except Exception as e:  # Catch more broadly if needed\n",
    "        print(\"Error:\", str(e))\n"
   ]
  },
  {
   "cell_type": "code",
   "execution_count": 70,
   "metadata": {},
   "outputs": [
    {
     "ename": "NameError",
     "evalue": "name 'result' is not defined",
     "output_type": "error",
     "traceback": [
      "\u001b[1;31m---------------------------------------------------------------------------\u001b[0m",
      "\u001b[1;31mNameError\u001b[0m                                 Traceback (most recent call last)",
      "Cell \u001b[1;32mIn[70], line 1\u001b[0m\n\u001b[1;32m----> 1\u001b[0m \u001b[38;5;28mprint\u001b[39m(\u001b[43mresult\u001b[49m)\n",
      "\u001b[1;31mNameError\u001b[0m: name 'result' is not defined"
     ]
    }
   ],
   "source": [
    "print(result)"
   ]
  },
  {
   "cell_type": "code",
   "execution_count": null,
   "metadata": {},
   "outputs": [],
   "source": []
  }
 ],
 "metadata": {
  "kernelspec": {
   "display_name": "venv",
   "language": "python",
   "name": "python3"
  },
  "language_info": {
   "codemirror_mode": {
    "name": "ipython",
    "version": 3
   },
   "file_extension": ".py",
   "mimetype": "text/x-python",
   "name": "python",
   "nbconvert_exporter": "python",
   "pygments_lexer": "ipython3",
   "version": "3.11.9"
  }
 },
 "nbformat": 4,
 "nbformat_minor": 2
}
